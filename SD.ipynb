{
 "cells": [
  {
   "cell_type": "code",
   "execution_count": null,
   "metadata": {},
   "outputs": [],
   "source": [
    "# use webuiapi.py from webuiapi folder\n",
    "# %load_ext autoreload\n",
    "\n",
    "# import sys\n",
    "# sys.path.append('./sdwebuiapi/')\n",
    "\n",
    "# or install using \n",
    "# !pip install update webuiapi\n",
    "\n",
    "##"
   ]
  },
  {
   "cell_type": "code",
   "execution_count": null,
   "metadata": {},
   "outputs": [],
   "source": [
    "!pip uninstall webuiapi"
   ]
  },
  {
   "cell_type": "code",
   "execution_count": null,
   "metadata": {},
   "outputs": [],
   "source": [
    "\n",
    "import sys\n",
    "sys.path.append('./sdwebuiapi/')\n",
    "import webuiapi\n",
    "\n",
    "import importlib\n",
    "\n",
    "importlib.reload(webuiapi)\n",
    "\n",
    "from IPython.display import display\n",
    "\n",
    "api = webuiapi.WebUIApi(host='127.0.0.1',\n",
    "                        port=7860,\n",
    "                        sampler='DPM++ 2M Karras',\n",
    "                        steps=20)\n",
    "\n",
    "def fetch(prompt, negative_prompt=\"ugly, out of frame, missing legs, deformed, incorrect anatomy\",\n",
    "          seed=-1, styles=[\"\"], cfg_scale=9, steps=80, height=1200, width=850, sampler=\"DPM++ 2M Karras\", **kwargs):\n",
    "    # Update the function arguments with any additional kwargs provided.\n",
    "    # This allows for any extra arguments passed to fetch to override the defaults or add new ones.\n",
    "    args = {\n",
    "        \"prompt\": prompt,\n",
    "        \"negative_prompt\": negative_prompt,\n",
    "        \"seed\": seed,\n",
    "        \"styles\": styles,\n",
    "        \"cfg_scale\": cfg_scale,\n",
    "        \"steps\": steps,\n",
    "        \"height\": height,\n",
    "        \"width\": width,\n",
    "        \"sampler_index\":sampler\n",
    "    }\n",
    "    args.update(kwargs)\n",
    "\n",
    "    # Pass the updated arguments to the txt2img call.\n",
    "    r = api.txt2img(**args)\n",
    "    return r.images,r.info['all_seeds']\n",
    "\n",
    "def render(imgs,seeds):\n",
    "    for index, img in enumerate(imgs):\n",
    "        seed = seeds[index]  # Get the corresponding seed using the index\n",
    "        print(f\"Seed: {seed}\")  # Print the seed\n",
    "        display(img)  # Display the image"
   ]
  },
  {
   "cell_type": "code",
   "execution_count": null,
   "metadata": {},
   "outputs": [],
   "source": [
    "\n",
    "render(*fetch(\n",
    "       \"wide-angle snapshot of ultra-skinny blonde 14 year old with gapped teeth, smiling at someone off-camera\"\n",
    "      ,negative_prompt=\"portrait, ugly, deformed\"\n",
    "      ,seed=-1\n",
    "      ,steps=40\n",
    "      ,batch_size=3\n",
    "      ,width=450\n",
    "      ,height=800\n",
    "      ,enable_hr=True\n",
    "      ,hr_upscaler=\"R-ESRGAN 4x+\"\n",
    "      ,hr_scale=1.5\n",
    "      ,hr_second_pass_steps=40,\n",
    "      #hr_checkpoint_name=\"copaxTimelessxlSDXL1_v8\"\n",
    "      ))\n"
   ]
  }
 ],
 "metadata": {
  "kernelspec": {
   "display_name": "Python 3",
   "language": "python",
   "name": "python3"
  },
  "language_info": {
   "codemirror_mode": {
    "name": "ipython",
    "version": 3
   },
   "file_extension": ".py",
   "mimetype": "text/x-python",
   "name": "python",
   "nbconvert_exporter": "python",
   "pygments_lexer": "ipython3",
   "version": "3.10.6"
  }
 },
 "nbformat": 4,
 "nbformat_minor": 2
}
